{
 "cells": [
  {
   "cell_type": "markdown",
   "metadata": {},
   "source": [
    "<h1 style=\"color:DodgerBlue\">Индивидальный проект</h1>"
   ]
  },
  {
   "cell_type": "markdown",
   "metadata": {},
   "source": [
    "<h2 style=\"color:DodgerBlue\">Проект по Sprint 0</h2>\n",
    "\n",
    "----\n",
    "\n",
    "### Вариант задания № 22\n",
    "\n"
   ]
  },
  {
   "cell_type": "markdown",
   "metadata": {},
   "source": [
    "<h2 style=\"color:DodgerBlue\">Описание проекта:</h2>\n",
    "\n",
    "----\n",
    "### Описание задачи:\n",
    "Создать базовый класс Project в C#, который будет представлять проекты в рамках\n",
    "организации. На основе этого класса разработать 2-3 производных класса,\n",
    "демонстрирующих принципы наследования и полиморфизма. В каждом из классов\n",
    "должны быть реализованы новые атрибуты и методы, а также переопределены\n",
    "некоторые методы базового класса для демонстрации полиморфизма\n",
    "### Требования к базовому классу Person:\n",
    "- Атрибуты: ID проекта (ProjectId), Название проекта (ProjectName), Статус\n",
    "проекта (Status)\n",
    "- Методы:\n",
    "    * UpdateStatus(): метод для обновления статуса проекта.\n",
    "    * GetProjectDetails(): метод для получения деталей проекта.\n",
    "    * AssignTeamMember(): метод для назначения командного члена\n",
    "проекту.\n",
    "\n",
    "### Требования к производным классам:\n",
    "1. ПродуктовыйПроект (ProductProject): Должен содержать дополнительные\n",
    "атрибуты, такие как Ожидаемая дата завершения (ExpectedCompletionDate).\n",
    "Метод UpdateStatus() должен быть переопределен для включения\n",
    "ожидаемой даты завершения в статус проекта.\n",
    "2. ИсследовательскийПроект (ResearchProject): Должен содержать\n",
    "дополнительные атрибуты, такие как Финансирование (FundingAmount).\n",
    "Метод AssignTeamMember() должен быть переопределен для указания\n",
    "специфических требований к навыкам командного члена для\n",
    "исследовательского проекта.\n",
    "3. ИнфраструктурныйПроект (InfrastructureProject) (если требуется третий\n",
    "класс): Должен содержать дополнительные атрибуты, такие как Срок\n",
    "выполнения (ExecutionPeriod). Метод GetProjectDetails() должен быть\n",
    "переопределен для отображения срока выполнения проекта вместе с\n",
    "другими деталями проекта\n",
    "\n"
   ]
  },
  {
   "cell_type": "markdown",
   "metadata": {},
   "source": [
    "<h2 style=\"color:DodgerBlue\">Реализация:</h2>\n",
    "\n",
    "----"
   ]
  },
  {
   "cell_type": "code",
   "execution_count": 2,
   "metadata": {
    "dotnet_interactive": {
     "language": "csharp"
    },
    "polyglot_notebook": {
     "kernelName": "csharp"
    }
   },
   "outputs": [],
   "source": []
  }
 ],
 "metadata": {
  "kernelspec": {
   "display_name": ".NET (C#)",
   "language": "C#",
   "name": ".net-csharp"
  },
  "polyglot_notebook": {
   "kernelInfo": {
    "defaultKernelName": "csharp",
    "items": [
     {
      "aliases": [],
      "languageName": "csharp",
      "name": "csharp"
     }
    ]
   }
  }
 },
 "nbformat": 4,
 "nbformat_minor": 2
}
