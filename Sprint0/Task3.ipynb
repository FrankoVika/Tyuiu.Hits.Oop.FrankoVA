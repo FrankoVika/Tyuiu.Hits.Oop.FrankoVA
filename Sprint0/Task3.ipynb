{
 "cells": [
  {
   "cell_type": "markdown",
   "metadata": {},
   "source": [
    "<h1 style=\"color:DodgerBlue\">Индивидальный проект</h1>"
   ]
  },
  {
   "cell_type": "markdown",
   "metadata": {},
   "source": [
    "<h2 style=\"color:DodgerBlue\">Проект по Sprint 0</h2>\n",
    "\n",
    "----\n",
    "\n",
    "### Вариант задания № 21\n",
    "\n"
   ]
  },
  {
   "cell_type": "markdown",
   "metadata": {},
   "source": [
    "<h2 style=\"color:DodgerBlue\">Описание проекта:</h2>\n",
    "\n",
    "----\n",
    "### Описание задачи:\n",
    "Создать базовый класс Ticket в C#, который будет представлять билеты на\n",
    "различные мероприятия. На основе этого класса разработать 2-3 производных\n",
    "класса, демонстрирующих принципы наследования и полиморфизма. В каждом из\n",
    "классов должны быть реализованы новые атрибуты и методы, а также\n",
    "переопределены некоторые методы базового класса для демонстрации\n",
    "полиморфизма.\n",
    "### Требования к базовому классу Person:\n",
    "- Атрибуты: ID билета (TicketId), Номер ряда (RowNumber), Номер места\n",
    "(SeatNumber)\n",
    "- Методы:\n",
    "    * PrintTicketInfo(): метод для печати информации о билете.\n",
    "    * ReserveSeat(): метод для резервирования места.\n",
    "    * GetTicketDetails(): метод для получения деталей билета.\n",
    "проекту.\n",
    "\n",
    "### Требования к производным классам:\n",
    "1. БилетНаКонцерт (ConcertTicket): Должен содержать дополнительные\n",
    "атрибуты, такие как Имя исполнителя (ArtistName).\n",
    "Метод PrintTicketInfo() должен быть переопределен для включения имени\n",
    "исполнителя в информацию о билете.\n",
    "2. БилетНаСпектакль (PlayTicket): Должен содержать дополнительные\n",
    "атрибуты, такие как Название спектакля (PlayTitle).\n",
    "Метод GetTicketDetails() должен быть переопределен для отображения\n",
    "названия спектакля вместе с другими деталями билета.\n",
    "3. БилетНаКонференцию (ConferenceTicket) (если требуется третий класс):\n",
    "Должен содержать дополнительные атрибуты, такие как Название\n",
    "конференции (ConferenceName). Метод ReserveSeat() должен быть\n",
    "переопределен для добавления информации о предпочтениях участника\n",
    "относительно мест.\n",
    "\n"
   ]
  },
  {
   "cell_type": "markdown",
   "metadata": {},
   "source": [
    "<h2 style=\"color:DodgerBlue\">Реализация:</h2>\n",
    "\n",
    "----"
   ]
  },
  {
   "cell_type": "code",
   "execution_count": null,
   "metadata": {
    "dotnet_interactive": {
     "language": "csharp"
    },
    "polyglot_notebook": {
     "kernelName": "csharp"
    }
   },
   "outputs": [],
   "source": [
    "using System;\n",
    "\n",
    "// Базовый класс\n",
    "public class Ticket\n",
    "{\n",
    "    public int TicketId { get; set; }\n",
    "    public int RowNumber { get; set; }\n",
    "    public int SeatNumber { get; set; }\n",
    "    public bool IsReserved { get; private set; }\n",
    "\n",
    "    public Ticket(int id, int row, int seat)\n",
    "    {\n",
    "        TicketId = id;\n",
    "        RowNumber = row;\n",
    "        SeatNumber = seat;\n",
    "        IsReserved = false;\n",
    "    }\n",
    "\n",
    "    public virtual void PrintTicketInfo()\n",
    "    {\n",
    "        Console.WriteLine($\"Билет #{TicketId}: ряд {RowNumber}, место {SeatNumber}, статус: {(IsReserved ? \"Зарезервировано\" : \"Свободно\")}\");\n",
    "    }\n",
    "\n",
    "    public virtual void ReserveSeat()\n",
    "    {\n",
    "        IsReserved = true;\n",
    "        Console.WriteLine($\"Место {SeatNumber} в ряду {RowNumber} зарезервировано.\");\n",
    "    }\n",
    "\n",
    "    public virtual string GetTicketDetails()\n",
    "    {\n",
    "        return $\"ID: {TicketId}, Ряд: {RowNumber}, Место: {SeatNumber}\";\n",
    "    }\n",
    "}\n",
    "\n",
    "// Производный класс: Билет на концерт\n",
    "public class ConcertTicket : Ticket\n",
    "{\n",
    "    public string ArtistName { get; set; }\n",
    "\n",
    "    public ConcertTicket(int id, int row, int seat, string artist)\n",
    "        : base(id, row, seat)\n",
    "    {\n",
    "        ArtistName = artist;\n",
    "    }\n",
    "\n",
    "    public override void PrintTicketInfo()\n",
    "    {\n",
    "        Console.WriteLine($\"🎵 Билет #{TicketId}: {ArtistName}, ряд {RowNumber}, место {SeatNumber}, статус: {(IsReserved ? \"Зарезервировано\" : \"Свободно\")}\");\n",
    "    }\n",
    "}\n",
    "\n",
    "// Производный класс: Билет на спектакль\n",
    "public class PlayTicket : Ticket\n",
    "{\n",
    "    public string PlayTitle { get; set; }\n",
    "\n",
    "    public PlayTicket(int id, int row, int seat, string title)\n",
    "        : base(id, row, seat)\n",
    "    {\n",
    "        PlayTitle = title;\n",
    "    }\n",
    "\n",
    "    public override string GetTicketDetails()\n",
    "    {\n",
    "        return base.GetTicketDetails() + $\", Спектакль: {PlayTitle}\";\n",
    "    }\n",
    "}\n",
    "\n",
    "// Производный класс: Билет на конференцию\n",
    "public class ConferenceTicket : Ticket\n",
    "{\n",
    "    public string ConferenceName { get; set; }\n",
    "\n",
    "    public ConferenceTicket(int id, int row, int seat, string conference)\n",
    "        : base(id, row, seat)\n",
    "    {\n",
    "        ConferenceName = conference;\n",
    "    }\n",
    "\n",
    "    public override void ReserveSeat()\n",
    "    {\n",
    "        base.ReserveSeat();\n",
    "        Console.WriteLine($\"Для конференции '{ConferenceName}' можно указать предпочтения по месту (например, ближе к сцене).\");\n",
    "    }\n",
    "}\n",
    "\n",
    "        ConcertTicket concert = new ConcertTicket(1, 5, 12, \"КняZZ\");\n",
    "        concert.PrintTicketInfo();\n",
    "        concert.ReserveSeat();\n",
    "        concert.PrintTicketInfo();\n",
    "        Console.WriteLine();\n",
    "\n",
    "        PlayTicket play = new PlayTicket(2, 3, 7, \"Шекспир\");\n",
    "        Console.WriteLine(play.GetTicketDetails());\n",
    "        play.ReserveSeat();\n",
    "        play.PrintTicketInfo();\n",
    "        Console.WriteLine();\n",
    "\n",
    "        ConferenceTicket conf = new ConferenceTicket(3, 1, 1, \"Tech Future 2025\");\n",
    "        conf.PrintTicketInfo();\n",
    "        conf.ReserveSeat();\n",
    "        Console.WriteLine(conf.GetTicketDetails());\n"
   ]
  }
 ],
 "metadata": {
  "kernelspec": {
   "display_name": ".NET (C#)",
   "language": "C#",
   "name": ".net-csharp"
  },
  "polyglot_notebook": {
   "kernelInfo": {
    "defaultKernelName": "csharp",
    "items": [
     {
      "aliases": [],
      "languageName": "csharp",
      "name": "csharp"
     }
    ]
   }
  }
 },
 "nbformat": 4,
 "nbformat_minor": 2
}
